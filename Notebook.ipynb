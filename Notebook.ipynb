{
 "cells": [
  {
   "cell_type": "code",
   "execution_count": 1,
   "metadata": {
    "collapsed": true
   },
   "outputs": [],
   "source": [
    "## Asad Ali\n",
    "## MSDS-17008\n",
    "## Due to Low Computational Resources, i will be working on 30% of the data. \n",
    "## It can always be changed on a high processing system.\n",
    "## Thank U"
   ]
  },
  {
   "cell_type": "code",
   "execution_count": 2,
   "metadata": {
    "collapsed": true
   },
   "outputs": [],
   "source": [
    "##loading Required Libraries\n",
    "%matplotlib inline\n",
    "import os\n",
    "import pandas as pd\n",
    "import matplotlib\n",
    "from matplotlib import pyplot as plt\n",
    "import numpy as np\n",
    "import math\n",
    "from patsy import dmatrices\n",
    "from sklearn.model_selection import train_test_split\n",
    "from sklearn import tree\n",
    "from sklearn.model_selection import StratifiedKFold, cross_val_score\n",
    "from imblearn.over_sampling import SMOTE\n",
    "from scipy.stats import randint as sp_randint\n",
    "from sklearn.ensemble import BaggingClassifier"
   ]
  },
  {
   "cell_type": "code",
   "execution_count": 3,
   "metadata": {
    "collapsed": true
   },
   "outputs": [],
   "source": [
    "#import custom libraries\n",
    "from importlib import reload\n",
    "from pprint import pprint\n",
    "import myclasses\n",
    "reload(myclasses)\n",
    "from myclasses import utils , MyDecisionTree, MyKFold\n",
    "MyTree = MyDecisionTree()"
   ]
  },
  {
   "cell_type": "markdown",
   "metadata": {},
   "source": [
    "Lets Load this Data into a Pandas Data Frame"
   ]
  },
  {
   "cell_type": "code",
   "execution_count": 4,
   "metadata": {},
   "outputs": [
    {
     "name": "stdout",
     "output_type": "stream",
     "text": [
      "Wall time: 50.1 s\n"
     ]
    },
    {
     "data": {
      "text/plain": [
       "(887379, 74)"
      ]
     },
     "execution_count": 4,
     "metadata": {},
     "output_type": "execute_result"
    }
   ],
   "source": [
    "#Loading CSV into memory\n",
    "%time data = pd.read_csv('loan.csv', low_memory=False)\n",
    "data.shape"
   ]
  },
  {
   "cell_type": "markdown",
   "metadata": {},
   "source": [
    "So we got 887379 Objects with their 74 attributes. Lets see their attributes names"
   ]
  },
  {
   "cell_type": "code",
   "execution_count": 5,
   "metadata": {
    "scrolled": true
   },
   "outputs": [],
   "source": [
    "#data.columns"
   ]
  },
  {
   "cell_type": "code",
   "execution_count": 6,
   "metadata": {},
   "outputs": [],
   "source": [
    "#Lets see the data now \n",
    "#data.head()"
   ]
  },
  {
   "cell_type": "markdown",
   "metadata": {},
   "source": [
    "Now lets load data dictionary from the excel file given and lets try to match its description "
   ]
  },
  {
   "cell_type": "code",
   "execution_count": 7,
   "metadata": {
    "collapsed": true
   },
   "outputs": [],
   "source": [
    "LCDataDictionary = pd.ExcelFile(\"LCDataDictionary.xlsx\")\n",
    "#open loanStats Sheet\n",
    "\n",
    "attributeDescription  = {}\n",
    "attributeDictionary  = {}\n",
    "\n",
    "#capture columns data\n",
    "LoanStats = LCDataDictionary.parse(\"LoanStats\")\n",
    "LoanStatNew = LoanStats['LoanStatNew'].tolist()\n",
    "Description = LoanStats['Description'].tolist()\n",
    "\n",
    "for i in range(len(LoanStatNew)):\n",
    "    attributeDescription[LoanStatNew[i]] = Description[i]\n",
    "\n",
    "browseNotes = LCDataDictionary.parse(\"browseNotes\")\n",
    "BrowseNotesFile = browseNotes['BrowseNotesFile'].tolist()\n",
    "bDescription = browseNotes['Description'].tolist()\n",
    "\n",
    "for i in range(len(BrowseNotesFile)):\n",
    "    attributeDescription[BrowseNotesFile[i]] = bDescription[i]\n",
    "    \n",
    "    \n",
    "# lets match it with out data columns\n",
    "for column in data.columns:\n",
    "    if column in attributeDescription:\n",
    "        attributeDictionary[column] = attributeDescription[column]\n",
    "    else:\n",
    "        attributeDictionary[column] = \"\"\n",
    "\n",
    "#So lets print this Data dictionary now\n",
    "#attributeDictionary"
   ]
  },
  {
   "cell_type": "markdown",
   "metadata": {},
   "source": [
    "<h1> Cleaning Data </h1>"
   ]
  },
  {
   "cell_type": "markdown",
   "metadata": {},
   "source": [
    "Since we can see from data shape that there are multiple columns with 0 data so we should drop those columns first\n",
    "The processes\n",
    "1. Check if contains missing value\n",
    "2. Check how much percentage missing value has\n",
    "3. Delete columns with percentage of NaN more than 97% (Nan > 97%)"
   ]
  },
  {
   "cell_type": "code",
   "execution_count": 8,
   "metadata": {
    "collapsed": true
   },
   "outputs": [],
   "source": [
    "\n",
    "Cleaned_Data = data.copy()\n",
    "MissingColumnDict = {}\n",
    "TotalObjects = Cleaned_Data.shape[0]\n",
    "\n",
    "for column in Cleaned_Data:\n",
    "    \n",
    "    nullCount = Cleaned_Data[column].isnull().sum();\n",
    "    nullPercent = nullCount / (TotalObjects * 1.0)\n",
    "    \n",
    "    if nullCount > 0 and nullPercent > 0.97 :\n",
    "        Cleaned_Data.drop(column, axis=1,inplace=True)\n",
    "        MissingColumnDict[column] = nullPercent"
   ]
  },
  {
   "cell_type": "code",
   "execution_count": 9,
   "metadata": {},
   "outputs": [
    {
     "name": "stdout",
     "output_type": "stream",
     "text": [
      "Columns Dropped with NaN > 97% are:\n"
     ]
    }
   ],
   "source": [
    "print ('Columns Dropped with NaN > 97% are:')\n",
    "#MissingColumnDict"
   ]
  },
  {
   "cell_type": "markdown",
   "metadata": {},
   "source": [
    "I could see multiple n/a data in data so lets replace it with NaN and then lets replace it\n",
    "Replace missing values with Unknown value or mean when feature is numerical"
   ]
  },
  {
   "cell_type": "code",
   "execution_count": 10,
   "metadata": {},
   "outputs": [
    {
     "data": {
      "text/plain": [
       "(887379, 57)"
      ]
     },
     "execution_count": 10,
     "metadata": {},
     "output_type": "execute_result"
    }
   ],
   "source": [
    "#Returns a random sample of items - 30% so the dataset is easy to work with\n",
    "#Sampled_Data = Cleaned_Data.sample(frac = 0.3)\n",
    "#Sampled_Data = Cleaned_Data.sample(frac = 0.1)\n",
    "Sampled_Data = Cleaned_Data.copy()\n",
    "Sampled_Data.shape"
   ]
  },
  {
   "cell_type": "code",
   "execution_count": 11,
   "metadata": {},
   "outputs": [],
   "source": [
    "#Sampled_Data['emp_length'].value_counts()"
   ]
  },
  {
   "cell_type": "markdown",
   "metadata": {},
   "source": [
    "Identifying Missing Data, Because Employement Length is required for Loan Operations so it is necessary"
   ]
  },
  {
   "cell_type": "code",
   "execution_count": 12,
   "metadata": {},
   "outputs": [
    {
     "data": {
      "text/plain": [
       "10.0    291569\n",
       "0.5     115430\n",
       "2.0      78870\n",
       "3.0      70026\n",
       "1.0      57095\n",
       "5.0      55704\n",
       "4.0      52529\n",
       "7.0      44594\n",
       "8.0      43955\n",
       "6.0      42950\n",
       "9.0      34657\n",
       "Name: emp_length_num, dtype: int64"
      ]
     },
     "execution_count": 12,
     "metadata": {},
     "output_type": "execute_result"
    }
   ],
   "source": [
    "\n",
    "def CalculateEmployeeLength(year):\n",
    "    if year == '< 1 year':\n",
    "        return 0.5\n",
    "    elif year == 'n/a':\n",
    "        return 0.5\n",
    "    elif year == '10+ years':\n",
    "        return 10\n",
    "    else:\n",
    "        return float(year.rstrip(' years'))\n",
    "        \n",
    "Sampled_Data['emp_length_num'] = Sampled_Data.apply (lambda object: CalculateEmployeeLength(object['emp_length']),axis=1)\n",
    "Sampled_Data = Sampled_Data.drop('emp_length',axis =1 )\n",
    "Sampled_Data['emp_length_num'].value_counts()"
   ]
  },
  {
   "cell_type": "markdown",
   "metadata": {},
   "source": [
    "Lets see the Attribute Loan Status of its attributes"
   ]
  },
  {
   "cell_type": "code",
   "execution_count": 13,
   "metadata": {},
   "outputs": [],
   "source": [
    "#Sampled_Data['loan_status'].value_counts()"
   ]
  },
  {
   "cell_type": "markdown",
   "metadata": {},
   "source": [
    "Now lets take only those Records which have Fully Paid or are defaulters"
   ]
  },
  {
   "cell_type": "code",
   "execution_count": 14,
   "metadata": {},
   "outputs": [
    {
     "data": {
      "text/plain": [
       "Fully Paid     207723\n",
       "Charged Off     45248\n",
       "Default          1219\n",
       "Name: loan_status, dtype: int64"
      ]
     },
     "execution_count": 14,
     "metadata": {},
     "output_type": "execute_result"
    }
   ],
   "source": [
    "Sampled_Data = Sampled_Data[Sampled_Data['loan_status'].isin(['Fully Paid','Charged Off','Default'])]\n",
    "Sampled_Data['loan_status'].value_counts()"
   ]
  },
  {
   "cell_type": "code",
   "execution_count": 15,
   "metadata": {},
   "outputs": [
    {
     "data": {
      "text/plain": [
       "id                              0\n",
       "member_id                       0\n",
       "loan_amnt                       0\n",
       "funded_amnt                     0\n",
       "funded_amnt_inv                 0\n",
       "term                            0\n",
       "int_rate                        0\n",
       "installment                     0\n",
       "grade                           0\n",
       "sub_grade                       0\n",
       "emp_title                       0\n",
       "home_ownership                  0\n",
       "annual_inc                      0\n",
       "verification_status             0\n",
       "issue_d                         0\n",
       "loan_status                     0\n",
       "pymnt_plan                      0\n",
       "url                             0\n",
       "purpose                         0\n",
       "title                           0\n",
       "zip_code                        0\n",
       "addr_state                      0\n",
       "dti                             0\n",
       "delinq_2yrs                     0\n",
       "earliest_cr_line                0\n",
       "inq_last_6mths                  0\n",
       "open_acc                        0\n",
       "pub_rec                         0\n",
       "revol_bal                       0\n",
       "revol_util                      0\n",
       "total_acc                       0\n",
       "initial_list_status             0\n",
       "out_prncp                       0\n",
       "out_prncp_inv                   0\n",
       "total_pymnt                     0\n",
       "total_pymnt_inv                 0\n",
       "total_rec_prncp                 0\n",
       "total_rec_int                   0\n",
       "total_rec_late_fee              0\n",
       "recoveries                      0\n",
       "collection_recovery_fee         0\n",
       "last_pymnt_d                  536\n",
       "last_pymnt_amnt                 0\n",
       "last_credit_pull_d             21\n",
       "collections_12_mths_ex_med      0\n",
       "policy_code                     0\n",
       "application_type                0\n",
       "acc_now_delinq                  0\n",
       "emp_length_num                  0\n",
       "dtype: int64"
      ]
     },
     "execution_count": 15,
     "metadata": {},
     "output_type": "execute_result"
    }
   ],
   "source": [
    "# drop features that have no or little predictive power and original target\n",
    "#Sampled_Data = Sampled_Data.drop(['id','member_id','url','desc','zip_code','policy_code','application_type','last_pymnt_d','last_credit_pull_d','verification_status','pymnt_plan','funded_amnt_inv','sub_grade','out_prncp','out_prncp_inv','total_pymnt_inv','total_pymnt','total_pymnt_inv','total_rec_prncp','total_rec_int','total_rec_late_fee','recoveries','collection_recovery_fee','last_pymnt_amnt','initial_list_status','earliest_cr_line'],axis =1)\n",
    "Sampled_Data.replace('n/a', 'nan',inplace=True)\n",
    "Sampled_Data.fillna('')\n",
    "\n",
    "Sampled_Data['emp_title'].fillna('Unknown',inplace = True)\n",
    "Sampled_Data['title'].fillna('Unknown',inplace = True)\n",
    "Sampled_Data['revol_util'].fillna(Sampled_Data['revol_util'].mean(),inplace = True)\n",
    "Sampled_Data['collections_12_mths_ex_med'].fillna(Sampled_Data['collections_12_mths_ex_med'].mean(),inplace = True)\n",
    "\n",
    "# Drop those features which have more than 50% null values\n",
    "features_missing_series = Sampled_Data.isnull().sum() > len(Sampled_Data)/5\n",
    "features_missing_series = features_missing_series[features_missing_series == True]\n",
    "features_missing_list =  features_missing_series.index.tolist()\n",
    "Sampled_Data = Sampled_Data.drop(features_missing_list,axis =1)\n",
    "\n",
    "Sampled_Data.isnull().sum()"
   ]
  },
  {
   "cell_type": "markdown",
   "metadata": {},
   "source": [
    "Lets Visualize The Data with Respect to Loan Amount\n"
   ]
  },
  {
   "cell_type": "code",
   "execution_count": 16,
   "metadata": {},
   "outputs": [
    {
     "data": {
      "text/plain": [
       "5K-10K           7430\n",
       "10K-15K          5643\n",
       "15K-20K          4020\n",
       "5K and Below     3559\n",
       "20K-25K          2371\n",
       "25K-30K          1190\n",
       "30K and Above    1107\n",
       "Name: loan_amnt_bin, dtype: int64"
      ]
     },
     "execution_count": 16,
     "metadata": {},
     "output_type": "execute_result"
    }
   ],
   "source": [
    "def CalculateLoanAmountBin(value):\n",
    "    if value <= 5000:\n",
    "      return '5K and Below'\n",
    "    if value > 5000 and value <= 10000:\n",
    "      return '5K-10K'\n",
    "    if value > 10000 and value <= 15000:\n",
    "      return '10K-15K'\n",
    "    if value > 15000 and value <= 20000:\n",
    "      return '15K-20K'\n",
    "    if value > 20000 and value <= 25000:\n",
    "      return '20K-25K'\n",
    "    if value > 25000 and value <= 30000:\n",
    "      return '25K-30K'\n",
    "    if value > 30000 :\n",
    "      return '30K and Above'\n",
    "    return 'Other'\n",
    "\n",
    "Sampled_Data['loan_amnt_bin'] = Sampled_Data.apply(lambda object: CalculateLoanAmountBin(object['loan_amnt']),axis=1)\n",
    "Sampled_Data['loan_amnt_bin'].value_counts()"
   ]
  },
  {
   "cell_type": "code",
   "execution_count": 17,
   "metadata": {},
   "outputs": [
    {
     "data": {
      "text/plain": [
       "<matplotlib.text.Text at 0x2028016f240>"
      ]
     },
     "execution_count": 17,
     "metadata": {},
     "output_type": "execute_result"
    },
    {
     "data": {
      "image/png": "[encoded data removed]",
      "text/plain": [
       "<matplotlib.figure.Figure at 0x202c091fb00>"
      ]
     },
     "metadata": {},
     "output_type": "display_data"
    }
   ],
   "source": [
    "f = plt.figure(1)\n",
    "Sampled_Data['loan_amnt_bin'].value_counts().plot.pie(autopct='%1.0f%%',)\n",
    "plt.title('Pie Chart of Loan Amount')"
   ]
  },
  {
   "cell_type": "code",
   "execution_count": 18,
   "metadata": {},
   "outputs": [
    {
     "data": {
      "text/plain": [
       "<matplotlib.text.Text at 0x202832315f8>"
      ]
     },
     "execution_count": 18,
     "metadata": {},
     "output_type": "execute_result"
    },
    {
     "data": {
      "image/png": "[encoded data removed]",
      "text/plain": [
       "<matplotlib.figure.Figure at 0x202800cf668>"
      ]
     },
     "metadata": {},
     "output_type": "display_data"
    }
   ],
   "source": [
    "matplotlib.style.use('ggplot')\n",
    "f = plt.figure(1)\n",
    "Sampled_Data['loan_amnt'].hist()\n",
    "plt.xlabel('Loan Amount')\n",
    "plt.ylabel('Frequency')\n",
    "plt.title('Histogram of Loan Amount')"
   ]
  },
  {
   "cell_type": "markdown",
   "metadata": {},
   "source": [
    "Lets do the same for funded amount"
   ]
  },
  {
   "cell_type": "code",
   "execution_count": 19,
   "metadata": {},
   "outputs": [
    {
     "data": {
      "text/plain": [
       "5K-10K           7449\n",
       "10K-15K          5667\n",
       "15K-20K          4008\n",
       "5K and Below     3569\n",
       "20K-25K          2349\n",
       "25K-30K          1183\n",
       "30K and Above    1095\n",
       "Name: funded_amnt_bin, dtype: int64"
      ]
     },
     "execution_count": 19,
     "metadata": {},
     "output_type": "execute_result"
    }
   ],
   "source": [
    "Sampled_Data['funded_amnt_bin'] = Sampled_Data.apply (lambda object: CalculateLoanAmountBin(object['funded_amnt']),axis=1)\n",
    "Sampled_Data['funded_amnt_bin'].value_counts()"
   ]
  },
  {
   "cell_type": "code",
   "execution_count": 20,
   "metadata": {
    "scrolled": true
   },
   "outputs": [
    {
     "data": {
      "image/png": "[encoded data removed]",
      "text/plain": [
       "<matplotlib.figure.Figure at 0x2028b5832b0>"
      ]
     },
     "metadata": {},
     "output_type": "display_data"
    }
   ],
   "source": [
    "f = plt.figure(1)\n",
    "Sampled_Data['funded_amnt'].hist()\n",
    "plt.xlabel('Funded Amount')\n",
    "plt.ylabel('Frequency')\n",
    "plt.title('Histogram of Funded Amount')\n",
    "plt.grid(True)"
   ]
  },
  {
   "cell_type": "code",
   "execution_count": 21,
   "metadata": {},
   "outputs": [
    {
     "data": {
      "text/plain": [
       "<matplotlib.text.Text at 0x20280c78f98>"
      ]
     },
     "execution_count": 21,
     "metadata": {},
     "output_type": "execute_result"
    },
    {
     "data": {
      "image/png": "[encoded data removed]",
      "text/plain": [
       "<matplotlib.figure.Figure at 0x2028018df28>"
      ]
     },
     "metadata": {},
     "output_type": "display_data"
    }
   ],
   "source": [
    "f = plt.figure(2)\n",
    "Sampled_Data['funded_amnt_bin'].value_counts().plot.pie(autopct='%1.0f%%',)\n",
    "plt.title('Pie Chart of Funded Amount')"
   ]
  },
  {
   "cell_type": "markdown",
   "metadata": {},
   "source": [
    "Now lets see the Status of Loan"
   ]
  },
  {
   "cell_type": "markdown",
   "metadata": {},
   "source": [
    "Now we need to find our positive and negative class which we want to predict. In this case Fully Paid is negative and  Late Loan is Positive Class."
   ]
  },
  {
   "cell_type": "code",
   "execution_count": 16,
   "metadata": {},
   "outputs": [
    {
     "data": {
      "text/plain": [
       "0    207723\n",
       "1     46467\n",
       "Name: Late_Loan, dtype: int64"
      ]
     },
     "execution_count": 16,
     "metadata": {},
     "output_type": "execute_result"
    }
   ],
   "source": [
    "def MarkLateLoan(status): \n",
    "    if status == 'Fully Paid':\n",
    "        return 0\n",
    "    else:\n",
    "        return 1\n",
    "    \n",
    "Sampled_Data['Late_Loan'] = Sampled_Data.apply (lambda object: MarkLateLoan(object['loan_status']),axis=1)\n",
    "Sampled_Data['Late_Loan'].value_counts()"
   ]
  },
  {
   "cell_type": "code",
   "execution_count": 23,
   "metadata": {},
   "outputs": [
    {
     "data": {
      "text/plain": [
       "<matplotlib.axes._subplots.AxesSubplot at 0x20280c545f8>"
      ]
     },
     "execution_count": 23,
     "metadata": {},
     "output_type": "execute_result"
    },
    {
     "data": {
      "image/png": "[encoded data removed]",
      "text/plain": [
       "<matplotlib.figure.Figure at 0x20280c54748>"
      ]
     },
     "metadata": {},
     "output_type": "display_data"
    }
   ],
   "source": [
    "plt.figure(figsize=(5,5))\n",
    "Sampled_Data['Late_Loan'].value_counts().plot(kind = 'pie',autopct='%.0f%%', startangle=100, fontsize=17)"
   ]
  },
  {
   "cell_type": "markdown",
   "metadata": {},
   "source": [
    "Since Issue date is necessary so lets transform it"
   ]
  },
  {
   "cell_type": "code",
   "execution_count": 17,
   "metadata": {
    "collapsed": true
   },
   "outputs": [],
   "source": [
    "#transforming to date datatype\n",
    "Sampled_Data['issue_d'] = pd.to_datetime(Sampled_Data.issue_d)"
   ]
  },
  {
   "cell_type": "code",
   "execution_count": 18,
   "metadata": {
    "scrolled": true
   },
   "outputs": [
    {
     "data": {
      "text/plain": [
       "float64           28\n",
       "object            18\n",
       "int64              3\n",
       "datetime64[ns]     1\n",
       "dtype: int64"
      ]
     },
     "execution_count": 18,
     "metadata": {},
     "output_type": "execute_result"
    }
   ],
   "source": [
    "Sampled_Data.dtypes.value_counts()"
   ]
  },
  {
   "cell_type": "markdown",
   "metadata": {},
   "source": [
    "Now lets apply operations for each dataType"
   ]
  },
  {
   "cell_type": "code",
   "execution_count": 26,
   "metadata": {},
   "outputs": [
    {
     "data": {
      "text/plain": [
       "debt_consolidation    14792\n",
       "credit_card            5134\n",
       "home_improvement       1485\n",
       "other                  1422\n",
       "major_purchase          604\n",
       "small_business          464\n",
       "car                     392\n",
       "medical                 261\n",
       "moving                  210\n",
       "wedding                 185\n",
       "vacation                163\n",
       "house                   149\n",
       "educational              30\n",
       "renewable_energy         29\n",
       "Name: purpose, dtype: int64"
      ]
     },
     "execution_count": 26,
     "metadata": {},
     "output_type": "execute_result"
    }
   ],
   "source": [
    "Sampled_Data['purpose'].value_counts()"
   ]
  },
  {
   "cell_type": "markdown",
   "metadata": {},
   "source": [
    "By Showing it on Chart"
   ]
  },
  {
   "cell_type": "code",
   "execution_count": 27,
   "metadata": {},
   "outputs": [
    {
     "data": {
      "text/plain": [
       "<matplotlib.axes._subplots.AxesSubplot at 0x20280d1c278>"
      ]
     },
     "execution_count": 27,
     "metadata": {},
     "output_type": "execute_result"
    },
    {
     "data": {
      "image/png": "[encoded data removed]",
      "text/plain": [
       "<matplotlib.figure.Figure at 0x20280d11978>"
      ]
     },
     "metadata": {},
     "output_type": "display_data"
    }
   ],
   "source": [
    "all_rows = Sampled_Data['purpose']\n",
    "pur = Sampled_Data['purpose'].value_counts()\n",
    "purp = pur/len(all_rows)\n",
    "purp.plot(kind='bar')"
   ]
  },
  {
   "cell_type": "code",
   "execution_count": 28,
   "metadata": {},
   "outputs": [
    {
     "data": {
      "text/plain": [
       "<matplotlib.axes._subplots.AxesSubplot at 0x20280d44ac8>"
      ]
     },
     "execution_count": 28,
     "metadata": {},
     "output_type": "execute_result"
    },
    {
     "data": {
      "image/png": "[encoded data removed]",
      "text/plain": [
       "<matplotlib.figure.Figure at 0x20280d4bc88>"
      ]
     },
     "metadata": {},
     "output_type": "display_data"
    }
   ],
   "source": [
    "#I'm going to look at the installment payments against the grade and term of the loan.\n",
    "#This pivot table shows the installment payments by grade and term.\n",
    "loan_g = pd.pivot_table(Sampled_Data,\n",
    "                           index= ['grade','term'],\n",
    "                           columns= ['installment'] ,\n",
    "                            values= 'loan_amnt',\n",
    "                           aggfunc = sum)\n",
    "loan_g.T.idxmax()\n",
    "loan_g.T.idxmax().plot(kind='bar')"
   ]
  },
  {
   "cell_type": "markdown",
   "metadata": {},
   "source": [
    "Now lets see the data with respect to House Ownership, normally if a person is on rent, it could be his problem of delaying and late payment"
   ]
  },
  {
   "cell_type": "code",
   "execution_count": 29,
   "metadata": {},
   "outputs": [
    {
     "data": {
      "text/plain": [
       "<matplotlib.axes._subplots.AxesSubplot at 0x20280e74518>"
      ]
     },
     "execution_count": 29,
     "metadata": {},
     "output_type": "execute_result"
    },
    {
     "data": {
      "image/png": "[encoded data removed]",
      "text/plain": [
       "<matplotlib.figure.Figure at 0x20280eb9b00>"
      ]
     },
     "metadata": {},
     "output_type": "display_data"
    }
   ],
   "source": [
    "late = Sampled_Data[['home_ownership', 'Late_Loan']]\n",
    "late_people = late['Late_Loan']== True\n",
    "people = late[late_people]\n",
    "people['home_ownership'].value_counts().plot(kind='bar', color= 'blue')"
   ]
  },
  {
   "cell_type": "markdown",
   "metadata": {},
   "source": [
    "Lets Replace the Grade with a valid value which we can understand"
   ]
  },
  {
   "cell_type": "code",
   "execution_count": 19,
   "metadata": {
    "collapsed": true
   },
   "outputs": [],
   "source": [
    "def GradeInt(x):\n",
    "    if x == \"A\":\n",
    "        return 1\n",
    "    elif x == \"B\":\n",
    "        return 2\n",
    "    elif x == \"C\":\n",
    "        return 3\n",
    "    elif x == \"D\":\n",
    "        return 4\n",
    "    elif x == \"E\":\n",
    "        return 5\n",
    "    else:\n",
    "        return 6\n",
    "\n",
    "Sampled_Data['GradeInt'] = Sampled_Data['grade'].map(GradeInt)\n",
    "Sampled_Data['installmentAsPercent'] = Sampled_Data['installment']/(Sampled_Data['annual_inc']/12)"
   ]
  },
  {
   "cell_type": "code",
   "execution_count": 20,
   "metadata": {
    "collapsed": true
   },
   "outputs": [],
   "source": [
    "features = ['int_rate', 'GradeInt', 'loan_amnt', 'installment', 'annual_inc', 'dti',\n",
    "       'delinq_2yrs', 'inq_last_6mths', 'open_acc', 'pub_rec', 'revol_bal',\n",
    "       'revol_util', 'total_acc', 'collections_12_mths_ex_med',\n",
    "       'acc_now_delinq', 'emp_length_num', 'installmentAsPercent'];\n",
    "X = Sampled_Data[features]\n",
    "Y = Sampled_Data[\"Late_Loan\"]\n",
    "X_columns = X.columns\n",
    "sm = SMOTE(random_state=42)\n",
    "X, Y = sm.fit_sample(X, Y)\n",
    "X = pd.DataFrame(X,columns=X_columns)"
   ]
  },
  {
   "cell_type": "code",
   "execution_count": 32,
   "metadata": {
    "collapsed": true
   },
   "outputs": [],
   "source": [
    "X_train,X_test, Y_train, Y_test = train_test_split(X,Y,test_size=0.3)"
   ]
  },
  {
   "cell_type": "code",
   "execution_count": 21,
   "metadata": {},
   "outputs": [
    {
     "data": {
      "text/plain": [
       "(415446, 17)"
      ]
     },
     "execution_count": 21,
     "metadata": {},
     "output_type": "execute_result"
    }
   ],
   "source": [
    "X.shape"
   ]
  },
  {
   "cell_type": "markdown",
   "metadata": {},
   "source": [
    "<h1>Scikit Learn Decision Tree</h1>"
   ]
  },
  {
   "cell_type": "code",
   "execution_count": 33,
   "metadata": {
    "collapsed": true
   },
   "outputs": [],
   "source": [
    "model = tree.DecisionTreeClassifier(criterion = 'entropy', max_depth=14)\n",
    "kfold = StratifiedKFold(n_splits= 10, shuffle = True)\n",
    "scores = cross_val_score(model, X_train, Y_train, cv = kfold)"
   ]
  },
  {
   "cell_type": "markdown",
   "metadata": {},
   "source": [
    "The Scores are as Follows"
   ]
  },
  {
   "cell_type": "code",
   "execution_count": 34,
   "metadata": {
    "scrolled": true
   },
   "outputs": [
    {
     "name": "stdout",
     "output_type": "stream",
     "text": [
      "[ 0.82155232  0.81531532  0.82051282  0.82986833  0.82674983  0.82432432\n",
      "  0.82744283  0.83679834  0.82350902  0.81969487]\n"
     ]
    },
    {
     "data": {
      "image/png": "[encoded data removed]",
      "text/plain": [
       "<matplotlib.figure.Figure at 0x20283877940>"
      ]
     },
     "metadata": {},
     "output_type": "display_data"
    }
   ],
   "source": [
    "utils().print_scores(scores)"
   ]
  },
  {
   "cell_type": "markdown",
   "metadata": {},
   "source": [
    "Lets train our classifier"
   ]
  },
  {
   "cell_type": "code",
   "execution_count": 35,
   "metadata": {
    "collapsed": true
   },
   "outputs": [],
   "source": [
    "best_model = model.fit(X_train, Y_train)\n",
    "bagging = BaggingClassifier(best_model, random_state=1)\n",
    "best_model.fit(X,Y)\n",
    "predictions = best_model.predict(X_test)"
   ]
  },
  {
   "cell_type": "code",
   "execution_count": 36,
   "metadata": {},
   "outputs": [
    {
     "name": "stdout",
     "output_type": "stream",
     "text": [
      "(28856, 17)\n",
      "(12368, 17)\n"
     ]
    }
   ],
   "source": [
    "print(X_train.shape)\n",
    "print(X_test.shape)"
   ]
  },
  {
   "cell_type": "code",
   "execution_count": 37,
   "metadata": {},
   "outputs": [
    {
     "name": "stdout",
     "output_type": "stream",
     "text": [
      "Accuracy : 0.880174644243\n",
      "Precision : 0.8317876559\n",
      "recall : 0.923650568182\n",
      "f1 Score : 0.875315497224\n",
      "\n",
      "[[5202 1052]\n",
      " [ 430 5684]]\n"
     ]
    },
    {
     "data": {
      "image/png": "[encoded data removed]",
      "text/plain": [
       "<matplotlib.figure.Figure at 0x202818b7780>"
      ]
     },
     "metadata": {},
     "output_type": "display_data"
    }
   ],
   "source": [
    "utils().print_metrics(predictions,Y_test)"
   ]
  },
  {
   "cell_type": "markdown",
   "metadata": {},
   "source": [
    "Now lets use Bagging Classifer to predict the accuracy and precision etc\n",
    "A Bagging classifier is an ensemble meta-estimator that fits base classifiers each on random subsets of the original dataset and then aggregate their individual predictions (either by voting or by averaging) to form a final prediction. Such a meta-estimator can typically be used as a way to reduce the variance of a black-box estimator (e.g., a decision tree), by introducing randomization into its construction procedure and then making an ensemble out of it.\n"
   ]
  },
  {
   "cell_type": "markdown",
   "metadata": {},
   "source": [
    "# My Decision Tree and KFold"
   ]
  },
  {
   "cell_type": "code",
   "execution_count": 22,
   "metadata": {
    "collapsed": true
   },
   "outputs": [],
   "source": [
    "train,test = MyTree.train_test_split(X ,Y, test_size = 0.5)"
   ]
  },
  {
   "cell_type": "code",
   "execution_count": 23,
   "metadata": {
    "collapsed": true
   },
   "outputs": [],
   "source": [
    "target = 'Late_Loan'\n",
    "attribute_names = list(train.columns)\n",
    "attribute_names.remove(target)"
   ]
  },
  {
   "cell_type": "code",
   "execution_count": 24,
   "metadata": {},
   "outputs": [
    {
     "name": "stdout",
     "output_type": "stream",
     "text": [
      "(207723, 18)\n",
      "(207723, 18)\n"
     ]
    }
   ],
   "source": [
    "#train = train.sample(frac=0.3)\n",
    "print(train.shape)\n",
    "#test = test.sample(frac=0.3)\n",
    "print(test.shape)"
   ]
  },
  {
   "cell_type": "code",
   "execution_count": 25,
   "metadata": {},
   "outputs": [
    {
     "name": "stdout",
     "output_type": "stream",
     "text": [
      "Wall time: 6min 31s\n"
     ]
    }
   ],
   "source": [
    "%time tree = MyTree.fit(train, attribute_names)"
   ]
  },
  {
   "cell_type": "markdown",
   "metadata": {},
   "source": [
    "### Tree Structure"
   ]
  },
  {
   "cell_type": "markdown",
   "metadata": {},
   "source": [
    "if you want to see the Tree, uncomment below"
   ]
  },
  {
   "cell_type": "code",
   "execution_count": 42,
   "metadata": {
    "collapsed": true
   },
   "outputs": [],
   "source": [
    "#pprint(tree)"
   ]
  },
  {
   "cell_type": "code",
   "execution_count": 26,
   "metadata": {
    "scrolled": true
   },
   "outputs": [
    {
     "name": "stdout",
     "output_type": "stream",
     "text": [
      "Wall time: 1min 27s\n"
     ]
    }
   ],
   "source": [
    "%time predictions = MyTree.predict(test)"
   ]
  },
  {
   "cell_type": "code",
   "execution_count": 27,
   "metadata": {},
   "outputs": [
    {
     "name": "stdout",
     "output_type": "stream",
     "text": [
      "Accuracy : 0.503742965391\n",
      "Precision : 0.975203817472\n",
      "recall : 0.501091952311\n",
      "f1 Score : 0.662017455852\n",
      "\n",
      "[[100957   2567]\n",
      " [100517   3682]]\n"
     ]
    },
    {
     "data": {
      "image/png": "[encoded data removed]",
      "text/plain": [
       "<matplotlib.figure.Figure at 0x261bdef4668>"
      ]
     },
     "metadata": {},
     "output_type": "display_data"
    }
   ],
   "source": [
    "actual = test['Late_Loan']\n",
    "utils().print_metrics(predictions,actual)"
   ]
  },
  {
   "cell_type": "markdown",
   "metadata": {},
   "source": [
    "## KFold"
   ]
  },
  {
   "cell_type": "code",
   "execution_count": 28,
   "metadata": {
    "collapsed": true
   },
   "outputs": [],
   "source": [
    "scores = MyKFold().predict(data = test, n_splits= 10, model = MyTree, shuffle = True)"
   ]
  },
  {
   "cell_type": "code",
   "execution_count": 29,
   "metadata": {},
   "outputs": [
    {
     "name": "stdout",
     "output_type": "stream",
     "text": [
      "[0.97592274539032375, 0.97580697328417099, 0.97425736194342416, 0.97576090113933445, 0.97522493154257395, 0.97615441626655497, 0.97514138735342049, 0.97502574665293507, 0.97420309434205021, 0.97559477631238689]\n"
     ]
    },
    {
     "data": {
      "image/png": "[encoded data removed]",
      "text/plain": [
       "<matplotlib.figure.Figure at 0x261dbdeedd8>"
      ]
     },
     "metadata": {},
     "output_type": "display_data"
    }
   ],
   "source": [
    "utils().print_scores(scores)"
   ]
  },
  {
   "cell_type": "code",
   "execution_count": null,
   "metadata": {
    "collapsed": true
   },
   "outputs": [],
   "source": []
  }
 ],
 "metadata": {
  "kernelspec": {
   "display_name": "Python 3",
   "language": "python",
   "name": "python3"
  },
  "language_info": {
   "codemirror_mode": {
    "name": "ipython",
    "version": 3
   },
   "file_extension": ".py",
   "mimetype": "text/x-python",
   "name": "python",
   "nbconvert_exporter": "python",
   "pygments_lexer": "ipython3",
   "version": "3.6.2"
  }
 },
 "nbformat": 4,
 "nbformat_minor": 2
}
